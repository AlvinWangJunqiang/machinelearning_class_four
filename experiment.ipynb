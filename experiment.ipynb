{
 "cells": [
  {
   "cell_type": "markdown",
   "metadata": {},
   "source": [
    "**step1:** 导入包库以及定义超参数"
   ]
  },
  {
   "cell_type": "code",
   "execution_count": 21,
   "metadata": {
    "collapsed": true
   },
   "outputs": [],
   "source": [
    "import os\n",
    "import pandas as pd\n",
    "import numpy as np\n",
    "import matplotlib.pyplot as plt\n",
    "\n",
    "# 参数定义\n",
    "iteration_times = 500  # 迭代次数\n",
    "K = 10  # 潜在特征数\n",
    "lamb = 0.5  # 惩罚系数\n",
    "fig_config = {  # 绘图参数\n",
    "    'title': 'validation loss',\n",
    "    'xlabel': 'iteration times',\n",
    "    'ylabel': 'loss value',\n",
    "    'color_shape': ['c', 'orange', 'pink', 'g', 'k', 'm', 'r', 'y'],\n",
    "    'label': ['validation loss'],\n",
    "    'figsize': (6, 4)\n",
    "}"
   ]
  },
  {
   "cell_type": "markdown",
   "metadata": {},
   "source": [
    "**step2:** 根据文件目录导入数据，并合并好训练集以及测试集"
   ]
  },
  {
   "cell_type": "code",
   "execution_count": 22,
   "metadata": {
    "collapsed": true
   },
   "outputs": [],
   "source": [
    "def load_data(dir_name):\n",
    "    train_list = []\n",
    "    test_list = []\n",
    "    file_names = os.listdir(dir_name)\n",
    "    for name in file_names:\n",
    "        if \"base\" in name:\n",
    "            file_name = os.path.join(dir_name, name)\n",
    "            train = pd.read_csv(file_name, sep=\"\\t\")\n",
    "            train.columns = [\"user_id\", \"item_id\", \"rating\", \"timestamp\"]\n",
    "            train_list.append(train)\n",
    "        if \"test\" in name:\n",
    "            file_name = os.path.join(dir_name, name)\n",
    "            test = pd.read_csv(file_name, sep=\"\\t\")\n",
    "            test.columns = [\"user_id\", \"item_id\", \"rating\", \"timestamp\"]\n",
    "            test_list.append(test)\n",
    "\n",
    "    train_data = pd.concat(train_list, axis=0)\n",
    "    test_data = pd.concat(test_list, axis=0)\n",
    "    # print(train_data)\n",
    "    # print(test_data)\n",
    "    return train_data, test_data"
   ]
  },
  {
   "cell_type": "markdown",
   "metadata": {},
   "source": [
    "**step3:** 根据横纵坐标以及相应的值填充好矩阵，主要用于原始评分矩阵的填充"
   ]
  },
  {
   "cell_type": "code",
   "execution_count": 23,
   "metadata": {
    "collapsed": true
   },
   "outputs": [],
   "source": [
    "def padding_data(x ,y ,value, default=0):\n",
    "    \"\"\"\n",
    "    根据坐标和对应的值填充矩阵\n",
    "    :param x: 横坐标\n",
    "    :param y: 纵坐标\n",
    "    :param value: 值\n",
    "    :param default: 如果没有对应的值，默认填充\n",
    "    :return: 填充后的矩阵\n",
    "    \"\"\"\n",
    "    x = np.array(x)\n",
    "    y = np.array(y)\n",
    "    data = np.ones((x.max(), y.max())) * default\n",
    "    try:\n",
    "        data[x-1, y-1] = value\n",
    "    except Exception as e:\n",
    "        print(\"wrong x len and y len.\", e)\n",
    "    return data"
   ]
  },
  {
   "cell_type": "markdown",
   "metadata": {},
   "source": [
    "**step4:** 定义损失函数，使用均方损失函数，并加上正则项"
   ]
  },
  {
   "cell_type": "code",
   "execution_count": 24,
   "metadata": {
    "collapsed": true
   },
   "outputs": [],
   "source": [
    "def loss_function(y, y_pred, lamb):\n",
    "    return np.mean(np.square(y - y_pred)) + lamb * (np.linalg.norm(y) + np.linalg.norm(y_pred))/len(y)"
   ]
  },
  {
   "cell_type": "markdown",
   "metadata": {},
   "source": [
    "**step5:** 定义绘图函数，可以同时绘制多条曲线，根据y的大小来适应，同时需要传入绘图参数"
   ]
  },
  {
   "cell_type": "code",
   "execution_count": 25,
   "metadata": {
    "collapsed": true
   },
   "outputs": [],
   "source": [
    "def plot_result(x, y, fig_config):\n",
    "    \"\"\"\n",
    "    对结果绘图，绘制一张图，并根据fig_config设置相关参数\n",
    "    :param x: x轴数据\n",
    "    :param y: y轴数据，可能有多条线，根据y的大小来确定，同时y.shape[1] == x.shape\n",
    "    :param fig_config: 配置的参数, fig_config['color_shape'] > y.shape[1],\n",
    "    :return:\n",
    "    \"\"\"\n",
    "    # 对relief的值进行绘图\n",
    "    # 绘图\n",
    "    plt.figure(figsize=fig_config['figsize'], dpi=98)  # 设置宽高\n",
    "    plt.title(fig_config['title'])  # 设置标题\n",
    "    for i in range(len(y)):\n",
    "        plt.plot(x, y[i], linewidth=2.0, color=fig_config['color_shape'][i], label=fig_config['label'][i])\n",
    "    plt.xlabel(fig_config['xlabel'], fontsize=20)\n",
    "    plt.ylabel(fig_config['ylabel'], fontsize=20)\n",
    "    plt.legend(fig_config['label'])\n",
    "    return plt\n"
   ]
  },
  {
   "cell_type": "markdown",
   "metadata": {},
   "source": [
    "**step6:** 利用交替最小二乘法分解稀疏的用户评分矩阵，并调用绘图函数绘制validation loss"
   ]
  },
  {
   "cell_type": "code",
   "execution_count": 26,
   "metadata": {
    "collapsed": true
   },
   "outputs": [],
   "source": [
    "def task_one(dir_name):\n",
    "    print(\"alternate least squares optimization method...\")\n",
    "    # 数据读取\n",
    "    train_data, test_data = load_data(dir_name)\n",
    "\n",
    "    # 填充为原始评分矩阵，训练数据和测试数据\n",
    "    train_rate = padding_data(list(train_data['user_id']), list(train_data['item_id']), list(train_data['rating']))\n",
    "\n",
    "    # 初始化用户因子矩阵和物品因子矩阵\n",
    "    user_num = max(list(train_data['user_id']))\n",
    "    user_matrix = np.random.random((user_num, K))\n",
    "\n",
    "    item_num = max(list(train_data['item_id']))\n",
    "    item_matrix = np.random.random((item_num, K))\n",
    "\n",
    "    # 开始迭代\n",
    "    total_valid_loss = []\n",
    "    for i in range(iteration_times):\n",
    "        if i % 100 == 0:\n",
    "            print(\"iteration times:\", i)\n",
    "        # 使用交替最小二乘法更新user矩阵和物品矩阵\n",
    "        user_matrix = np.dot(train_rate, np.dot(np.linalg.inv(np.dot(item_matrix.T, item_matrix) + lamb), item_matrix.T).T)\n",
    "        item_matrix = np.dot(train_rate.T, np.dot(np.linalg.inv(np.dot(user_matrix.T, user_matrix) + lamb), user_matrix.T).T)\n",
    "\n",
    "        # 计算validation loss\n",
    "        rate_matrix = np.dot(user_matrix, item_matrix.T)\n",
    "        valid_loss = loss_function(np.array(test_data['rating']), np.array(rate_matrix[np.array(test_data['user_id'])-1, np.array(test_data['item_id'])-1]), lamb)\n",
    "        total_valid_loss.append(valid_loss)\n",
    "\n",
    "    # 绘制validation loss图\n",
    "    plt_res = plot_result(range(iteration_times), [total_valid_loss], fig_config)\n",
    "    plt_res.show()"
   ]
  },
  {
   "cell_type": "markdown",
   "metadata": {},
   "source": [
    "**step7:** 利用随机梯度下降法分解稀疏的用户评分矩阵，并调用绘图函数绘制validation loss"
   ]
  },
  {
   "cell_type": "code",
   "execution_count": 27,
   "metadata": {
    "collapsed": true
   },
   "outputs": [],
   "source": [
    "def task_two(dir_name):\n",
    "    print(\"stochastic gradient descent method...\")\n",
    "    # 参数初始化\n",
    "    learning_rate = 0.01   # 梯度下降的学习率\n",
    "\n",
    "    # 数据读取\n",
    "    train_data, test_data = load_data(dir_name)\n",
    "\n",
    "    # 填充为原始评分矩阵，训练数据和测试数据\n",
    "    train_rate = padding_data(list(train_data['user_id']), list(train_data['item_id']), list(train_data['rating']))\n",
    "\n",
    "    # 初始化用户因子矩阵和物品因子矩阵\n",
    "    user_num = max(list(train_data['user_id']))\n",
    "    user_matrix = np.random.random((user_num, K))\n",
    "\n",
    "    item_num = max(list(train_data['item_id']))\n",
    "    item_matrix = np.random.random((item_num, K))\n",
    "\n",
    "    # 开始迭代\n",
    "    total_valid_loss = []\n",
    "    for i in range(iteration_times):\n",
    "        if i % 100 == 0:\n",
    "            print(\"iteration times:\", i)\n",
    "        # 使用随机梯度下降法更新user矩阵和物品矩阵\n",
    "        x, y = np.random.randint(user_num), np.random.randint(item_num)   # 随机选取一个sample，实际上就是选取横纵坐标\n",
    "\n",
    "        # 计算梯度\n",
    "        user_matrix[x] = user_matrix[x] - learning_rate * ((train_rate[x , y] - np.dot(user_matrix[x], item_matrix[y])) * item_matrix[y] - lamb * user_matrix[x])\n",
    "        item_matrix[y] = item_matrix[y] - learning_rate * ((train_rate[x, y] - np.dot( user_matrix[x], item_matrix[y])) * user_matrix[x] - lamb * item_matrix[y])\n",
    "\n",
    "        # 计算validation loss\n",
    "        rate_matrix = np.dot(user_matrix, item_matrix.T)\n",
    "        valid_loss = loss_function(np.array(test_data['rating']), np.array(rate_matrix[np.array(test_data['user_id'])-1, np.array(test_data['item_id'])-1]), lamb)\n",
    "        total_valid_loss.append(valid_loss)\n",
    "\n",
    "    # 绘制validation loss图\n",
    "    plt_res = plot_result(range(iteration_times), [total_valid_loss], fig_config)\n",
    "    plt_res.show()"
   ]
  },
  {
   "cell_type": "markdown",
   "metadata": {},
   "source": [
    "**step8:** 开始运行程序"
   ]
  },
  {
   "cell_type": "code",
   "execution_count": 28,
   "metadata": {
    "collapsed": false
   },
   "outputs": [
    {
     "name": "stdout",
     "output_type": "stream",
     "text": [
      "alternate least squares optimization method...\n",
      "iteration times: 0\n",
      "iteration times: 100\n",
      "iteration times: 200\n",
      "iteration times: 300\n",
      "iteration times: 400\n"
     ]
    },
    {
     "data": {
      "image/png": "[encoded data removed]",
      "text/plain": [
       "<matplotlib.figure.Figure at 0x1d1e7908908>"
      ]
     },
     "metadata": {},
     "output_type": "display_data"
    },
    {
     "name": "stdout",
     "output_type": "stream",
     "text": [
      "stochastic gradient descent method...\n",
      "iteration times: 0\n",
      "iteration times: 100\n",
      "iteration times: 200\n",
      "iteration times: 300\n",
      "iteration times: 400\n"
     ]
    },
    {
     "data": {
      "image/png": "[encoded data removed]",
      "text/plain": [
       "<matplotlib.figure.Figure at 0x1d1e79b01d0>"
      ]
     },
     "metadata": {},
     "output_type": "display_data"
    }
   ],
   "source": [
    "# 文件目录\n",
    "dir_name = \"D:/Coding/python/machinelearning_class_four/data/ml-100k\"\n",
    "task_one(dir_name)\n",
    "task_two(dir_name)"
   ]
  }
 ],
 "metadata": {
  "kernelspec": {
   "display_name": "Python 3",
   "language": "python",
   "name": "python3"
  },
  "language_info": {
   "codemirror_mode": {
    "name": "ipython",
    "version": 3
   },
   "file_extension": ".py",
   "mimetype": "text/x-python",
   "name": "python",
   "nbconvert_exporter": "python",
   "pygments_lexer": "ipython3",
   "version": "3.6.0"
  }
 },
 "nbformat": 4,
 "nbformat_minor": 2
}
